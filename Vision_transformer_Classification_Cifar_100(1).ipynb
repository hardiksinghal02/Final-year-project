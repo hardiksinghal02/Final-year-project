{
  "nbformat": 4,
  "nbformat_minor": 0,
  "metadata": {
    "colab": {
      "name": "Vision_transformer_Classification_Cifar_100.ipynb",
      "provenance": []
    },
    "kernelspec": {
      "name": "python3",
      "display_name": "Python 3"
    },
    "language_info": {
      "name": "python"
    },
    "accelerator": "GPU"
  },
  "cells": [
    {
      "cell_type": "code",
      "execution_count": null,
      "metadata": {
        "colab": {
          "base_uri": "https://localhost:8080/"
        },
        "id": "x8hiBMU-w_Bn",
        "outputId": "4a9c1ea2-2150-43e7-bfd4-e4caa37c61ab"
      },
      "outputs": [
        {
          "output_type": "stream",
          "name": "stdout",
          "text": [
            "Looking in indexes: https://pypi.org/simple, https://us-python.pkg.dev/colab-wheels/public/simple/\n",
            "Collecting tensorflow-addons\n",
            "  Downloading tensorflow_addons-0.17.0-cp37-cp37m-manylinux_2_17_x86_64.manylinux2014_x86_64.whl (1.1 MB)\n",
            "\u001b[K     |████████████████████████████████| 1.1 MB 7.5 MB/s \n",
            "\u001b[?25hRequirement already satisfied: typeguard>=2.7 in /usr/local/lib/python3.7/dist-packages (from tensorflow-addons) (2.7.1)\n",
            "Requirement already satisfied: packaging in /usr/local/lib/python3.7/dist-packages (from tensorflow-addons) (21.3)\n",
            "Requirement already satisfied: pyparsing!=3.0.5,>=2.0.2 in /usr/local/lib/python3.7/dist-packages (from packaging->tensorflow-addons) (3.0.9)\n",
            "Installing collected packages: tensorflow-addons\n",
            "Successfully installed tensorflow-addons-0.17.0\n"
          ]
        }
      ],
      "source": [
        "!pip install -U tensorflow-addons"
      ]
    },
    {
      "cell_type": "code",
      "source": [
        "import numpy as np\n",
        "import tensorflow as tf\n",
        "from tensorflow import keras\n",
        "from tensorflow.keras import layers\n",
        "import tensorflow_addons as tfa"
      ],
      "metadata": {
        "id": "Nj7a3UB7xOXA"
      },
      "execution_count": null,
      "outputs": []
    },
    {
      "cell_type": "code",
      "source": [
        "num_classes = 100\n",
        "input_shape = (32, 32, 3)\n",
        "\n",
        "(x_train, y_train), (x_test, y_test) = keras.datasets.cifar100.load_data()\n",
        "\n",
        "print(f\"x_train shape: {x_train.shape} - y_train shape: {y_train.shape}\")\n",
        "print(f\"x_test shape: {x_test.shape} - y_test shape: {y_test.shape}\")\n"
      ],
      "metadata": {
        "colab": {
          "base_uri": "https://localhost:8080/"
        },
        "id": "I2A-gg0mxPod",
        "outputId": "be9b1ff4-f1d5-436a-d4d7-e0285927a419"
      },
      "execution_count": null,
      "outputs": [
        {
          "output_type": "stream",
          "name": "stdout",
          "text": [
            "Downloading data from https://www.cs.toronto.edu/~kriz/cifar-100-python.tar.gz\n",
            "169009152/169001437 [==============================] - 7s 0us/step\n",
            "169017344/169001437 [==============================] - 7s 0us/step\n",
            "x_train shape: (50000, 32, 32, 3) - y_train shape: (50000, 1)\n",
            "x_test shape: (10000, 32, 32, 3) - y_test shape: (10000, 1)\n"
          ]
        }
      ]
    },
    {
      "cell_type": "code",
      "source": [
        "learning_rate = 0.001\n",
        "weight_decay = 0.0001\n",
        "batch_size = 256\n",
        "num_epochs = 40\n",
        "image_size = 72  # We'll resize input images to this size\n",
        "patch_size = 6  # Size of the patches to be extract from the input images\n",
        "num_patches = (image_size // patch_size) ** 2\n",
        "projection_dim = 64\n",
        "num_heads = 4\n",
        "transformer_units = [\n",
        "    projection_dim * 2,\n",
        "    projection_dim,\n",
        "]  # Size of the transformer layers\n",
        "transformer_layers = 8\n",
        "mlp_head_units = [2048, 1024]  # Size of the dense layers of the final classifier\n"
      ],
      "metadata": {
        "id": "GPaIIxBPxRnz"
      },
      "execution_count": null,
      "outputs": []
    },
    {
      "cell_type": "code",
      "source": [
        "data_augmentation = keras.Sequential(\n",
        "    [\n",
        "        layers.Normalization(),\n",
        "        layers.Resizing(image_size, image_size),\n",
        "        layers.RandomFlip(\"horizontal\"),\n",
        "        layers.RandomRotation(factor=0.02),\n",
        "        layers.RandomZoom(\n",
        "            height_factor=0.2, width_factor=0.2\n",
        "        ),\n",
        "    ],\n",
        "    name=\"data_augmentation\",\n",
        ")\n",
        "# Compute the mean and the variance of the training data for normalization.\n",
        "data_augmentation.layers[0].adapt(x_train)\n"
      ],
      "metadata": {
        "id": "D_BLklvJxYIP"
      },
      "execution_count": null,
      "outputs": []
    },
    {
      "cell_type": "code",
      "source": [
        "def mlp(x, hidden_units, dropout_rate):\n",
        "    for units in hidden_units:\n",
        "        x = layers.Dense(units, activation=tf.nn.gelu)(x)\n",
        "        x = layers.Dropout(dropout_rate)(x)\n",
        "    return x\n"
      ],
      "metadata": {
        "id": "-Hk58kRrxbG2"
      },
      "execution_count": null,
      "outputs": []
    },
    {
      "cell_type": "code",
      "source": [
        "class Patches(layers.Layer):\n",
        "    def __init__(self, patch_size):\n",
        "        super(Patches, self).__init__()\n",
        "        self.patch_size = patch_size\n",
        "\n",
        "    def call(self, images):\n",
        "        batch_size = tf.shape(images)[0]\n",
        "        patches = tf.image.extract_patches(\n",
        "            images=images,\n",
        "            sizes=[1, self.patch_size, self.patch_size, 1],\n",
        "            strides=[1, self.patch_size, self.patch_size, 1],\n",
        "            rates=[1, 1, 1, 1],\n",
        "            padding=\"VALID\",\n",
        "        )\n",
        "        patch_dims = patches.shape[-1]\n",
        "        patches = tf.reshape(patches, [batch_size, -1, patch_dims])\n",
        "        return patches\n"
      ],
      "metadata": {
        "id": "FY1fIt2Vxbxh"
      },
      "execution_count": null,
      "outputs": []
    },
    {
      "cell_type": "code",
      "source": [
        "import matplotlib.pyplot as plt\n",
        "\n",
        "plt.figure(figsize=(4, 4))\n",
        "image = x_train[np.random.choice(range(x_train.shape[0]))]\n",
        "plt.imshow(image.astype(\"uint8\"))\n",
        "plt.axis(\"off\")\n",
        "\n",
        "resized_image = tf.image.resize(\n",
        "    tf.convert_to_tensor([image]), size=(image_size, image_size)\n",
        ")\n",
        "patches = Patches(patch_size)(resized_image)\n",
        "print(f\"Image size: {image_size} X {image_size}\")\n",
        "print(f\"Patch size: {patch_size} X {patch_size}\")\n",
        "print(f\"Patches per image: {patches.shape[1]}\")\n",
        "print(f\"Elements per patch: {patches.shape[-1]}\")\n",
        "\n",
        "n = int(np.sqrt(patches.shape[1]))\n",
        "plt.figure(figsize=(4, 4))\n",
        "for i, patch in enumerate(patches[0]):\n",
        "    ax = plt.subplot(n, n, i + 1)\n",
        "    patch_img = tf.reshape(patch, (patch_size, patch_size, 3))\n",
        "    plt.imshow(patch_img.numpy().astype(\"uint8\"))\n",
        "    plt.axis(\"off\")\n"
      ],
      "metadata": {
        "colab": {
          "base_uri": "https://localhost:8080/",
          "height": 552
        },
        "id": "aC8IPliexeCU",
        "outputId": "fa8741ce-6b58-4320-cba5-c6edd81acd36"
      },
      "execution_count": null,
      "outputs": [
        {
          "output_type": "stream",
          "name": "stdout",
          "text": [
            "Image size: 72 X 72\n",
            "Patch size: 6 X 6\n",
            "Patches per image: 144\n",
            "Elements per patch: 108\n"
          ]
        },
        {
          "output_type": "display_data",
          "data": {
            "text/plain": [
              "<Figure size 288x288 with 1 Axes>"
            ],
            "image/png": "[encoded data removed]"
          },
          "metadata": {
            "needs_background": "light"
          }
        },
        {
          "output_type": "display_data",
          "data": {
            "text/plain": [
              "<Figure size 288x288 with 144 Axes>"
            ],
            "image/png": "[encoded data removed]"
          },
          "metadata": {
            "needs_background": "light"
          }
        }
      ]
    },
    {
      "cell_type": "code",
      "source": [
        "class PatchEncoder(layers.Layer):\n",
        "    def __init__(self, num_patches, projection_dim):\n",
        "        super(PatchEncoder, self).__init__()\n",
        "        self.num_patches = num_patches\n",
        "        self.projection = layers.Dense(units=projection_dim)\n",
        "        self.position_embedding = layers.Embedding(\n",
        "            input_dim=num_patches, output_dim=projection_dim\n",
        "        )\n",
        "\n",
        "    def call(self, patch):\n",
        "        positions = tf.range(start=0, limit=self.num_patches, delta=1)\n",
        "        encoded = self.projection(patch) + self.position_embedding(positions)\n",
        "        return encoded\n"
      ],
      "metadata": {
        "id": "00LmzpUJxgaa"
      },
      "execution_count": null,
      "outputs": []
    },
    {
      "cell_type": "code",
      "source": [
        "def create_vit_classifier():\n",
        "    inputs = layers.Input(shape=input_shape)\n",
        "    # Augment data.\n",
        "    augmented = data_augmentation(inputs)\n",
        "    # Create patches.\n",
        "    patches = Patches(patch_size)(augmented)\n",
        "    # Encode patches.\n",
        "    encoded_patches = PatchEncoder(num_patches, projection_dim)(patches)\n",
        "\n",
        "    # Create multiple layers of the Transformer block.\n",
        "    for _ in range(transformer_layers):\n",
        "        # Layer normalization 1.\n",
        "        x1 = layers.LayerNormalization(epsilon=1e-6)(encoded_patches)\n",
        "        # Create a multi-head attention layer.\n",
        "        attention_output = layers.MultiHeadAttention(\n",
        "            num_heads=num_heads, key_dim=projection_dim, dropout=0.1\n",
        "        )(x1, x1)\n",
        "        # Skip connection 1.\n",
        "        x2 = layers.Add()([attention_output, encoded_patches])\n",
        "        # Layer normalization 2.\n",
        "        x3 = layers.LayerNormalization(epsilon=1e-6)(x2)\n",
        "        # MLP.\n",
        "        x3 = mlp(x3, hidden_units=transformer_units, dropout_rate=0.1)\n",
        "        # Skip connection 2.\n",
        "        encoded_patches = layers.Add()([x3, x2])\n",
        "\n",
        "    # Create a [batch_size, projection_dim] tensor.\n",
        "    representation = layers.LayerNormalization(epsilon=1e-6)(encoded_patches)\n",
        "    representation = layers.Flatten()(representation)\n",
        "    representation = layers.Dropout(0.5)(representation)\n",
        "    # Add MLP.\n",
        "    features = mlp(representation, hidden_units=mlp_head_units, dropout_rate=0.5)\n",
        "    # Classify outputs.\n",
        "    logits = layers.Dense(num_classes)(features)\n",
        "    # Create the Keras model.\n",
        "    model = keras.Model(inputs=inputs, outputs=logits)\n",
        "    return model\n"
      ],
      "metadata": {
        "id": "xR80DxsAxjQt"
      },
      "execution_count": null,
      "outputs": []
    },
    {
      "cell_type": "code",
      "source": [
        "def run_experiment(model):\n",
        "    optimizer = tfa.optimizers.AdamW(\n",
        "        learning_rate=learning_rate, weight_decay=weight_decay\n",
        "    )\n",
        "\n",
        "    model.compile(\n",
        "        optimizer=optimizer,\n",
        "        loss=keras.losses.SparseCategoricalCrossentropy(from_logits=True),\n",
        "        metrics=[\n",
        "            keras.metrics.SparseCategoricalAccuracy(name=\"accuracy\"),\n",
        "            keras.metrics.SparseTopKCategoricalAccuracy(5, name=\"top-5-accuracy\"),\n",
        "        ],\n",
        "    )\n",
        "\n",
        "    checkpoint_filepath = \"/tmp/checkpoint\"\n",
        "    checkpoint_callback = keras.callbacks.ModelCheckpoint(\n",
        "        checkpoint_filepath,\n",
        "        monitor=\"val_accuracy\",\n",
        "        save_best_only=True,\n",
        "        save_weights_only=True,\n",
        "    )\n",
        "\n",
        "    history = model.fit(\n",
        "        x=x_train,\n",
        "        y=y_train,\n",
        "        batch_size=batch_size,\n",
        "        epochs=num_epochs,\n",
        "        validation_split=0.1,\n",
        "        callbacks=[checkpoint_callback],\n",
        "    )\n",
        "\n",
        "    model.load_weights(checkpoint_filepath)\n",
        "    _, accuracy, top_5_accuracy = model.evaluate(x_test, y_test)\n",
        "    print(f\"Test accuracy: {round(accuracy * 100, 2)}%\")\n",
        "    print(f\"Test top 5 accuracy: {round(top_5_accuracy * 100, 2)}%\")\n",
        "\n",
        "    return history\n",
        "\n",
        "\n",
        "vit_classifier = create_vit_classifier()\n",
        "history = run_experiment(vit_classifier)\n"
      ],
      "metadata": {
        "colab": {
          "base_uri": "https://localhost:8080/"
        },
        "id": "IO2bZ3fcxoRA",
        "outputId": "9305c7c8-4a27-40de-aafd-2a97700713b2"
      },
      "execution_count": null,
      "outputs": [
        {
          "output_type": "stream",
          "name": "stdout",
          "text": [
            "Epoch 1/40\n",
            "176/176 [==============================] - 78s 373ms/step - loss: 4.4947 - accuracy: 0.0442 - top-5-accuracy: 0.1572 - val_loss: 3.9091 - val_accuracy: 0.1060 - val_top-5-accuracy: 0.3076\n",
            "Epoch 2/40\n",
            "176/176 [==============================] - 66s 375ms/step - loss: 3.9516 - accuracy: 0.0941 - top-5-accuracy: 0.2899 - val_loss: 3.5566 - val_accuracy: 0.1618 - val_top-5-accuracy: 0.4208\n",
            "Epoch 3/40\n",
            "176/176 [==============================] - 67s 382ms/step - loss: 3.6895 - accuracy: 0.1334 - top-5-accuracy: 0.3677 - val_loss: 3.3605 - val_accuracy: 0.1874 - val_top-5-accuracy: 0.4616\n",
            "Epoch 4/40\n",
            "176/176 [==============================] - 67s 381ms/step - loss: 3.5205 - accuracy: 0.1580 - top-5-accuracy: 0.4201 - val_loss: 3.1941 - val_accuracy: 0.2240 - val_top-5-accuracy: 0.5032\n",
            "Epoch 5/40\n",
            "176/176 [==============================] - 67s 383ms/step - loss: 3.3856 - accuracy: 0.1840 - top-5-accuracy: 0.4591 - val_loss: 3.1022 - val_accuracy: 0.2418 - val_top-5-accuracy: 0.5384\n",
            "Epoch 6/40\n",
            "176/176 [==============================] - 67s 381ms/step - loss: 3.2653 - accuracy: 0.2065 - top-5-accuracy: 0.4864 - val_loss: 2.9724 - val_accuracy: 0.2676 - val_top-5-accuracy: 0.5668\n",
            "Epoch 7/40\n",
            "176/176 [==============================] - 67s 381ms/step - loss: 3.1651 - accuracy: 0.2253 - top-5-accuracy: 0.5143 - val_loss: 2.9011 - val_accuracy: 0.2822 - val_top-5-accuracy: 0.5812\n",
            "Epoch 8/40\n",
            "176/176 [==============================] - 67s 381ms/step - loss: 3.0623 - accuracy: 0.2441 - top-5-accuracy: 0.5415 - val_loss: 2.7899 - val_accuracy: 0.3032 - val_top-5-accuracy: 0.6092\n",
            "Epoch 9/40\n",
            "176/176 [==============================] - 67s 381ms/step - loss: 2.9646 - accuracy: 0.2637 - top-5-accuracy: 0.5631 - val_loss: 2.7268 - val_accuracy: 0.3188 - val_top-5-accuracy: 0.6246\n",
            "Epoch 10/40\n",
            "176/176 [==============================] - 67s 381ms/step - loss: 2.8834 - accuracy: 0.2786 - top-5-accuracy: 0.5859 - val_loss: 2.6515 - val_accuracy: 0.3366 - val_top-5-accuracy: 0.6326\n",
            "Epoch 11/40\n",
            "176/176 [==============================] - 67s 381ms/step - loss: 2.7952 - accuracy: 0.2997 - top-5-accuracy: 0.6032 - val_loss: 2.5988 - val_accuracy: 0.3438 - val_top-5-accuracy: 0.6524\n",
            "Epoch 12/40\n",
            "176/176 [==============================] - 67s 381ms/step - loss: 2.7238 - accuracy: 0.3124 - top-5-accuracy: 0.6227 - val_loss: 2.5524 - val_accuracy: 0.3492 - val_top-5-accuracy: 0.6548\n",
            "Epoch 13/40\n",
            "176/176 [==============================] - 67s 381ms/step - loss: 2.6461 - accuracy: 0.3270 - top-5-accuracy: 0.6413 - val_loss: 2.5197 - val_accuracy: 0.3626 - val_top-5-accuracy: 0.6632\n",
            "Epoch 14/40\n",
            "176/176 [==============================] - 67s 381ms/step - loss: 2.5696 - accuracy: 0.3421 - top-5-accuracy: 0.6548 - val_loss: 2.4076 - val_accuracy: 0.3786 - val_top-5-accuracy: 0.6888\n",
            "Epoch 15/40\n",
            "176/176 [==============================] - 67s 381ms/step - loss: 2.5121 - accuracy: 0.3548 - top-5-accuracy: 0.6692 - val_loss: 2.3410 - val_accuracy: 0.3968 - val_top-5-accuracy: 0.7062\n",
            "Epoch 16/40\n",
            "176/176 [==============================] - 67s 381ms/step - loss: 2.4388 - accuracy: 0.3700 - top-5-accuracy: 0.6860 - val_loss: 2.3445 - val_accuracy: 0.4004 - val_top-5-accuracy: 0.6976\n",
            "Epoch 17/40\n",
            "176/176 [==============================] - 67s 381ms/step - loss: 2.3679 - accuracy: 0.3844 - top-5-accuracy: 0.7009 - val_loss: 2.2625 - val_accuracy: 0.4178 - val_top-5-accuracy: 0.7136\n",
            "Epoch 18/40\n",
            "176/176 [==============================] - 67s 381ms/step - loss: 2.3041 - accuracy: 0.3977 - top-5-accuracy: 0.7122 - val_loss: 2.2060 - val_accuracy: 0.4214 - val_top-5-accuracy: 0.7314\n",
            "Epoch 19/40\n",
            "176/176 [==============================] - 67s 381ms/step - loss: 2.2511 - accuracy: 0.4063 - top-5-accuracy: 0.7252 - val_loss: 2.1720 - val_accuracy: 0.4422 - val_top-5-accuracy: 0.7340\n",
            "Epoch 20/40\n",
            "176/176 [==============================] - 66s 377ms/step - loss: 2.1823 - accuracy: 0.4210 - top-5-accuracy: 0.7385 - val_loss: 2.1407 - val_accuracy: 0.4328 - val_top-5-accuracy: 0.7416\n",
            "Epoch 21/40\n",
            "176/176 [==============================] - 67s 382ms/step - loss: 2.1444 - accuracy: 0.4293 - top-5-accuracy: 0.7468 - val_loss: 2.1190 - val_accuracy: 0.4482 - val_top-5-accuracy: 0.7516\n",
            "Epoch 22/40\n",
            "176/176 [==============================] - 66s 378ms/step - loss: 2.0881 - accuracy: 0.4433 - top-5-accuracy: 0.7573 - val_loss: 2.1089 - val_accuracy: 0.4420 - val_top-5-accuracy: 0.7450\n",
            "Epoch 23/40\n",
            "176/176 [==============================] - 67s 382ms/step - loss: 2.0377 - accuracy: 0.4558 - top-5-accuracy: 0.7668 - val_loss: 2.0940 - val_accuracy: 0.4524 - val_top-5-accuracy: 0.7524\n",
            "Epoch 24/40\n",
            "176/176 [==============================] - 67s 382ms/step - loss: 1.9838 - accuracy: 0.4666 - top-5-accuracy: 0.7790 - val_loss: 2.0151 - val_accuracy: 0.4686 - val_top-5-accuracy: 0.7642\n",
            "Epoch 25/40\n",
            "176/176 [==============================] - 67s 378ms/step - loss: 1.9307 - accuracy: 0.4768 - top-5-accuracy: 0.7857 - val_loss: 2.0613 - val_accuracy: 0.4556 - val_top-5-accuracy: 0.7536\n",
            "Epoch 26/40\n",
            "176/176 [==============================] - 67s 383ms/step - loss: 1.8951 - accuracy: 0.4833 - top-5-accuracy: 0.7928 - val_loss: 2.0220 - val_accuracy: 0.4708 - val_top-5-accuracy: 0.7712\n",
            "Epoch 27/40\n",
            "176/176 [==============================] - 67s 382ms/step - loss: 1.8451 - accuracy: 0.5003 - top-5-accuracy: 0.8022 - val_loss: 1.9902 - val_accuracy: 0.4748 - val_top-5-accuracy: 0.7748\n",
            "Epoch 28/40\n",
            "176/176 [==============================] - 67s 382ms/step - loss: 1.8077 - accuracy: 0.5059 - top-5-accuracy: 0.8096 - val_loss: 1.9918 - val_accuracy: 0.4814 - val_top-5-accuracy: 0.7756\n",
            "Epoch 29/40\n",
            "176/176 [==============================] - 67s 382ms/step - loss: 1.7640 - accuracy: 0.5203 - top-5-accuracy: 0.8157 - val_loss: 1.9549 - val_accuracy: 0.4830 - val_top-5-accuracy: 0.7772\n",
            "Epoch 30/40\n",
            "176/176 [==============================] - 67s 382ms/step - loss: 1.7230 - accuracy: 0.5254 - top-5-accuracy: 0.8255 - val_loss: 1.9318 - val_accuracy: 0.4976 - val_top-5-accuracy: 0.7864\n",
            "Epoch 31/40\n",
            "176/176 [==============================] - 67s 379ms/step - loss: 1.6985 - accuracy: 0.5318 - top-5-accuracy: 0.8296 - val_loss: 1.9634 - val_accuracy: 0.4856 - val_top-5-accuracy: 0.7764\n",
            "Epoch 32/40\n",
            "176/176 [==============================] - 67s 379ms/step - loss: 1.6595 - accuracy: 0.5378 - top-5-accuracy: 0.8382 - val_loss: 1.9228 - val_accuracy: 0.4974 - val_top-5-accuracy: 0.7882\n",
            "Epoch 33/40\n",
            "176/176 [==============================] - 67s 382ms/step - loss: 1.6203 - accuracy: 0.5502 - top-5-accuracy: 0.8433 - val_loss: 1.9151 - val_accuracy: 0.4988 - val_top-5-accuracy: 0.7826\n",
            "Epoch 34/40\n",
            "176/176 [==============================] - 67s 383ms/step - loss: 1.5965 - accuracy: 0.5556 - top-5-accuracy: 0.8481 - val_loss: 1.9057 - val_accuracy: 0.5024 - val_top-5-accuracy: 0.7880\n",
            "Epoch 35/40\n",
            "176/176 [==============================] - 67s 382ms/step - loss: 1.5636 - accuracy: 0.5638 - top-5-accuracy: 0.8523 - val_loss: 1.8982 - val_accuracy: 0.5104 - val_top-5-accuracy: 0.7878\n",
            "Epoch 36/40\n",
            "176/176 [==============================] - 67s 383ms/step - loss: 1.5309 - accuracy: 0.5719 - top-5-accuracy: 0.8584 - val_loss: 1.8695 - val_accuracy: 0.5198 - val_top-5-accuracy: 0.7960\n",
            "Epoch 37/40\n",
            "176/176 [==============================] - 67s 378ms/step - loss: 1.5073 - accuracy: 0.5746 - top-5-accuracy: 0.8639 - val_loss: 1.8705 - val_accuracy: 0.5158 - val_top-5-accuracy: 0.7964\n",
            "Epoch 38/40\n",
            "176/176 [==============================] - 67s 378ms/step - loss: 1.4660 - accuracy: 0.5844 - top-5-accuracy: 0.8696 - val_loss: 1.8668 - val_accuracy: 0.5138 - val_top-5-accuracy: 0.7990\n",
            "Epoch 39/40\n",
            "176/176 [==============================] - 67s 382ms/step - loss: 1.4465 - accuracy: 0.5880 - top-5-accuracy: 0.8707 - val_loss: 1.8749 - val_accuracy: 0.5164 - val_top-5-accuracy: 0.7942\n",
            "Epoch 40/40\n",
            "176/176 [==============================] - 67s 378ms/step - loss: 1.4182 - accuracy: 0.5976 - top-5-accuracy: 0.8780 - val_loss: 1.8952 - val_accuracy: 0.5122 - val_top-5-accuracy: 0.7902\n",
            "313/313 [==============================] - 7s 23ms/step - loss: 1.8256 - accuracy: 0.5181 - top-5-accuracy: 0.8028\n",
            "Test accuracy: 51.81%\n",
            "Test top 5 accuracy: 80.28%\n"
          ]
        }
      ]
    },
    {
      "cell_type": "code",
      "source": [
        "class_names = [\n",
        "'apple',\n",
        "'aquarium_fish',\n",
        "'baby',\n",
        "'bear',\n",
        "'beaver',\n",
        "'bed',\n",
        "'bee',\n",
        "'beetle',\n",
        "'bicycle',\n",
        "'bottle',\n",
        "'bowl',\n",
        "'boy',\n",
        "'bridge',\n",
        "'bus',\n",
        "'butterfly',\n",
        "'camel',\n",
        "'can',\n",
        "'castle',\n",
        "'caterpillar',\n",
        "'cattle',\n",
        "'chair',\n",
        "'chimpanzee',\n",
        "'clock',\n",
        "'cloud',\n",
        "'cockroach',\n",
        "'couch',\n",
        "'crab',\n",
        "'crocodile',\n",
        "'cup',\n",
        "'dinosaur',\n",
        "'dolphin',\n",
        "'elephant',\n",
        "'flatfish',\n",
        "'forest',\n",
        "'fox',\n",
        "'girl',\n",
        "'hamster',\n",
        "'house',\n",
        "'kangaroo',\n",
        "'computer_keyboard',\n",
        "'lamp',\n",
        "'lawn_mower',\n",
        "'leopard',\n",
        "'lion',\n",
        "'lizard',\n",
        "'lobster',\n",
        "'man',\n",
        "'maple_tree',\n",
        "'motorcycle',\n",
        "'mountain',\n",
        "'mouse',\n",
        "'mushroom',\n",
        "'oak_tree',\n",
        "'orange',\n",
        "'orchid',\n",
        "'otter',\n",
        "'palm_tree',\n",
        "'pear',\n",
        "'pickup_truck',\n",
        "'pine_tree',\n",
        "'plain',\n",
        "'plate',\n",
        "'poppy',\n",
        "'porcupine',\n",
        "'possum',\n",
        "'rabbit',\n",
        "'raccoon',\n",
        "'ray',\n",
        "'road',\n",
        "'rocket',\n",
        "'rose',\n",
        "'sea',\n",
        "'seal',\n",
        "'shark',\n",
        "'shrew',\n",
        "'skunk',\n",
        "'skyscraper',\n",
        "'snail',\n",
        "'snake',\n",
        "'spider',\n",
        "'squirrel',\n",
        "'streetcar',\n",
        "'sunflower',\n",
        "'sweet_pepper',\n",
        "'table',\n",
        "'tank',\n",
        "'telephone',\n",
        "'television',\n",
        "'tiger',\n",
        "'tractor',\n",
        "'train',\n",
        "'trout',\n",
        "'tulip',\n",
        "'turtle',\n",
        "'wardrobe',\n",
        "'whale',\n",
        "'willow_tree',\n",
        "'wolf',\n",
        "'woman',\n",
        "'worm',\n",
        "]"
      ],
      "metadata": {
        "id": "XHRZ-nlMRVst"
      },
      "execution_count": null,
      "outputs": []
    },
    {
      "cell_type": "code",
      "source": [
        "def img_predict(images, model) :\n",
        "\n",
        "    if len(images.shape) == 3:\n",
        "        out = model.predict(images.reshape(-1,*images.shape))\n",
        "    else:\n",
        "        out = model.predict(images)\n",
        "    prediction = np.argmax(out, axis = 1)\n",
        "    img_prediction = [class_names[i] for i in prediction]\n",
        "    return img_prediction"
      ],
      "metadata": {
        "id": "2s0wnDq6RWtO"
      },
      "execution_count": null,
      "outputs": []
    },
    {
      "cell_type": "code",
      "source": [
        "index = 14\n",
        "plt.imshow(x_test[index])\n",
        "prediction = img_predict(x_test[index], vit_classifier)\n",
        "print(prediction)"
      ],
      "metadata": {
        "colab": {
          "base_uri": "https://localhost:8080/",
          "height": 284
        },
        "id": "d65nPn3QRYgS",
        "outputId": "33b9d669-0007-4996-90b0-d225be384a73"
      },
      "execution_count": null,
      "outputs": [
        {
          "output_type": "stream",
          "name": "stdout",
          "text": [
            "['lamp']\n"
          ]
        },
        {
          "output_type": "display_data",
          "data": {
            "text/plain": [
              "<Figure size 432x288 with 1 Axes>"
            ],
            "image/png": "[encoded data removed]"
          },
          "metadata": {
            "needs_background": "light"
          }
        }
      ]
    },
    {
      "cell_type": "markdown",
      "source": [
        ""
      ],
      "metadata": {
        "id": "BjyLnF8axPZX"
      }
    }
  ]
}