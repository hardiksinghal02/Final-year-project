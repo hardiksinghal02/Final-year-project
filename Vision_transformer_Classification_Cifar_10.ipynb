{
  "cells": [
    {
      "cell_type": "code",
      "execution_count": null,
      "metadata": {
        "colab": {
          "base_uri": "https://localhost:8080/"
        },
        "id": "x8hiBMU-w_Bn",
        "outputId": "164e2e55-1a49-418b-edbe-ae4cbebe8448"
      },
      "outputs": [
        {
          "output_type": "stream",
          "name": "stdout",
          "text": [
            "Looking in indexes: https://pypi.org/simple, https://us-python.pkg.dev/colab-wheels/public/simple/\n",
            "Collecting tensorflow-addons\n",
            "  Downloading tensorflow_addons-0.17.0-cp37-cp37m-manylinux_2_17_x86_64.manylinux2014_x86_64.whl (1.1 MB)\n",
            "\u001b[K     |████████████████████████████████| 1.1 MB 31.7 MB/s \n",
            "\u001b[?25hRequirement already satisfied: packaging in /usr/local/lib/python3.7/dist-packages (from tensorflow-addons) (21.3)\n",
            "Requirement already satisfied: typeguard>=2.7 in /usr/local/lib/python3.7/dist-packages (from tensorflow-addons) (2.7.1)\n",
            "Requirement already satisfied: pyparsing!=3.0.5,>=2.0.2 in /usr/local/lib/python3.7/dist-packages (from packaging->tensorflow-addons) (3.0.9)\n",
            "Installing collected packages: tensorflow-addons\n",
            "Successfully installed tensorflow-addons-0.17.0\n"
          ]
        }
      ],
      "source": [
        "!pip install -U tensorflow-addons"
      ]
    },
    {
      "cell_type": "code",
      "execution_count": null,
      "metadata": {
        "id": "Nj7a3UB7xOXA"
      },
      "outputs": [],
      "source": [
        "import numpy as np\n",
        "import tensorflow as tf\n",
        "from tensorflow import keras\n",
        "from tensorflow.keras import layers\n",
        "import tensorflow_addons as tfa"
      ]
    },
    {
      "cell_type": "code",
      "execution_count": null,
      "metadata": {
        "colab": {
          "base_uri": "https://localhost:8080/"
        },
        "id": "I2A-gg0mxPod",
        "outputId": "43005ee0-1b82-4fe7-fd43-74622e4acdbc"
      },
      "outputs": [
        {
          "output_type": "stream",
          "name": "stdout",
          "text": [
            "Downloading data from https://www.cs.toronto.edu/~kriz/cifar-10-python.tar.gz\n",
            "170500096/170498071 [==============================] - 13s 0us/step\n",
            "170508288/170498071 [==============================] - 13s 0us/step\n",
            "x_train shape: (50000, 32, 32, 3) - y_train shape: (50000, 1)\n",
            "x_test shape: (10000, 32, 32, 3) - y_test shape: (10000, 1)\n"
          ]
        }
      ],
      "source": [
        "num_classes = 10\n",
        "input_shape = (32, 32, 3)\n",
        "\n",
        "(x_train, y_train), (x_test, y_test) = keras.datasets.cifar10.load_data()\n",
        "\n",
        "print(f\"x_train shape: {x_train.shape} - y_train shape: {y_train.shape}\")\n",
        "print(f\"x_test shape: {x_test.shape} - y_test shape: {y_test.shape}\")\n"
      ]
    },
    {
      "cell_type": "code",
      "execution_count": null,
      "metadata": {
        "id": "GPaIIxBPxRnz"
      },
      "outputs": [],
      "source": [
        "learning_rate = 0.001\n",
        "weight_decay = 0.0001\n",
        "batch_size = 256\n",
        "num_epochs = 40\n",
        "image_size = 72  # We'll resize input images to this size\n",
        "patch_size = 6  # Size of the patches to be extract from the input images\n",
        "num_patches = (image_size // patch_size) ** 2\n",
        "projection_dim = 64\n",
        "num_heads = 4\n",
        "transformer_units = [\n",
        "    projection_dim * 2,\n",
        "    projection_dim,\n",
        "]  # Size of the transformer layers\n",
        "transformer_layers = 8\n",
        "mlp_head_units = [2048, 1024]  # Size of the dense layers of the final classifier\n"
      ]
    },
    {
      "cell_type": "code",
      "execution_count": null,
      "metadata": {
        "id": "D_BLklvJxYIP"
      },
      "outputs": [],
      "source": [
        "data_augmentation = keras.Sequential(\n",
        "    [\n",
        "        layers.Normalization(),\n",
        "        layers.Resizing(image_size, image_size),\n",
        "        layers.RandomFlip(\"horizontal\"),\n",
        "        layers.RandomRotation(factor=0.02),\n",
        "        layers.RandomZoom(\n",
        "            height_factor=0.2, width_factor=0.2\n",
        "        ),\n",
        "    ],\n",
        "    name=\"data_augmentation\",\n",
        ")\n",
        "# Compute the mean and the variance of the training data for normalization.\n",
        "data_augmentation.layers[0].adapt(x_train)\n"
      ]
    },
    {
      "cell_type": "code",
      "execution_count": null,
      "metadata": {
        "id": "-Hk58kRrxbG2"
      },
      "outputs": [],
      "source": [
        "def mlp(x, hidden_units, dropout_rate):\n",
        "    for units in hidden_units:\n",
        "        x = layers.Dense(units, activation=tf.nn.gelu)(x)\n",
        "        x = layers.Dropout(dropout_rate)(x)\n",
        "    return x\n"
      ]
    },
    {
      "cell_type": "code",
      "execution_count": null,
      "metadata": {
        "id": "FY1fIt2Vxbxh"
      },
      "outputs": [],
      "source": [
        "class Patches(layers.Layer):\n",
        "    def __init__(self, patch_size):\n",
        "        super(Patches, self).__init__()\n",
        "        self.patch_size = patch_size\n",
        "\n",
        "    def call(self, images):\n",
        "        batch_size = tf.shape(images)[0]\n",
        "        patches = tf.image.extract_patches(\n",
        "            images=images,\n",
        "            sizes=[1, self.patch_size, self.patch_size, 1],\n",
        "            strides=[1, self.patch_size, self.patch_size, 1],\n",
        "            rates=[1, 1, 1, 1],\n",
        "            padding=\"VALID\",\n",
        "        )\n",
        "        patch_dims = patches.shape[-1]\n",
        "        patches = tf.reshape(patches, [batch_size, -1, patch_dims])\n",
        "        return patches\n"
      ]
    },
    {
      "cell_type": "code",
      "execution_count": null,
      "metadata": {
        "colab": {
          "base_uri": "https://localhost:8080/",
          "height": 552
        },
        "id": "aC8IPliexeCU",
        "outputId": "bac71f54-ae73-479b-8308-39383d6eb165"
      },
      "outputs": [
        {
          "output_type": "stream",
          "name": "stdout",
          "text": [
            "Image size: 72 X 72\n",
            "Patch size: 6 X 6\n",
            "Patches per image: 144\n",
            "Elements per patch: 108\n"
          ]
        },
        {
          "output_type": "display_data",
          "data": {
            "text/plain": [
              "<Figure size 288x288 with 1 Axes>"
            ],
            "image/png": "[encoded data removed]"
          },
          "metadata": {
            "needs_background": "light"
          }
        },
        {
          "output_type": "display_data",
          "data": {
            "text/plain": [
              "<Figure size 288x288 with 144 Axes>"
            ],
            "image/png": "[encoded data removed]"
          },
          "metadata": {
            "needs_background": "light"
          }
        }
      ],
      "source": [
        "import matplotlib.pyplot as plt\n",
        "\n",
        "plt.figure(figsize=(4, 4))\n",
        "image = x_train[np.random.choice(range(x_train.shape[0]))]\n",
        "plt.imshow(image.astype(\"uint8\"))\n",
        "plt.axis(\"off\")\n",
        "\n",
        "resized_image = tf.image.resize(\n",
        "    tf.convert_to_tensor([image]), size=(image_size, image_size)\n",
        ")\n",
        "patches = Patches(patch_size)(resized_image)\n",
        "print(f\"Image size: {image_size} X {image_size}\")\n",
        "print(f\"Patch size: {patch_size} X {patch_size}\")\n",
        "print(f\"Patches per image: {patches.shape[1]}\")\n",
        "print(f\"Elements per patch: {patches.shape[-1]}\")\n",
        "\n",
        "n = int(np.sqrt(patches.shape[1]))\n",
        "plt.figure(figsize=(4, 4))\n",
        "for i, patch in enumerate(patches[0]):\n",
        "    ax = plt.subplot(n, n, i + 1)\n",
        "    patch_img = tf.reshape(patch, (patch_size, patch_size, 3))\n",
        "    plt.imshow(patch_img.numpy().astype(\"uint8\"))\n",
        "    plt.axis(\"off\")\n"
      ]
    },
    {
      "cell_type": "code",
      "execution_count": null,
      "metadata": {
        "id": "00LmzpUJxgaa"
      },
      "outputs": [],
      "source": [
        "class PatchEncoder(layers.Layer):\n",
        "    def __init__(self, num_patches, projection_dim):\n",
        "        super(PatchEncoder, self).__init__()\n",
        "        self.num_patches = num_patches\n",
        "        self.projection = layers.Dense(units=projection_dim)\n",
        "        self.position_embedding = layers.Embedding(\n",
        "            input_dim=num_patches, output_dim=projection_dim\n",
        "        )\n",
        "\n",
        "    def call(self, patch):\n",
        "        positions = tf.range(start=0, limit=self.num_patches, delta=1)\n",
        "        encoded = self.projection(patch) + self.position_embedding(positions)\n",
        "        return encoded\n"
      ]
    },
    {
      "cell_type": "code",
      "execution_count": null,
      "metadata": {
        "id": "xR80DxsAxjQt"
      },
      "outputs": [],
      "source": [
        "def create_vit_classifier():\n",
        "    inputs = layers.Input(shape=input_shape)\n",
        "    # Augment data.\n",
        "    augmented = data_augmentation(inputs)\n",
        "    # Create patches.\n",
        "    patches = Patches(patch_size)(augmented)\n",
        "    # Encode patches.\n",
        "    encoded_patches = PatchEncoder(num_patches, projection_dim)(patches)\n",
        "\n",
        "    # Create multiple layers of the Transformer block.\n",
        "    for _ in range(transformer_layers):\n",
        "        # Layer normalization 1.\n",
        "        x1 = layers.LayerNormalization(epsilon=1e-6)(encoded_patches)\n",
        "        # Create a multi-head attention layer.\n",
        "        attention_output = layers.MultiHeadAttention(\n",
        "            num_heads=num_heads, key_dim=projection_dim, dropout=0.1\n",
        "        )(x1, x1)\n",
        "        # Skip connection 1.\n",
        "        x2 = layers.Add()([attention_output, encoded_patches])\n",
        "        # Layer normalization 2.\n",
        "        x3 = layers.LayerNormalization(epsilon=1e-6)(x2)\n",
        "        # MLP.\n",
        "        x3 = mlp(x3, hidden_units=transformer_units, dropout_rate=0.1)\n",
        "        # Skip connection 2.\n",
        "        encoded_patches = layers.Add()([x3, x2])\n",
        "\n",
        "    # Create a [batch_size, projection_dim] tensor.\n",
        "    representation = layers.LayerNormalization(epsilon=1e-6)(encoded_patches)\n",
        "    representation = layers.Flatten()(representation)\n",
        "    representation = layers.Dropout(0.5)(representation)\n",
        "    # Add MLP.\n",
        "    features = mlp(representation, hidden_units=mlp_head_units, dropout_rate=0.5)\n",
        "    # Classify outputs.\n",
        "    logits = layers.Dense(num_classes)(features)\n",
        "    # Create the Keras model.\n",
        "    model = keras.Model(inputs=inputs, outputs=logits)\n",
        "    return model\n"
      ]
    },
    {
      "cell_type": "code",
      "execution_count": null,
      "metadata": {
        "colab": {
          "base_uri": "https://localhost:8080/"
        },
        "id": "IO2bZ3fcxoRA",
        "outputId": "8d77f263-65c0-470a-cc43-1dbe9c4398f4"
      },
      "outputs": [
        {
          "output_type": "stream",
          "name": "stdout",
          "text": [
            "Epoch 1/40\n",
            "176/176 [==============================] - 78s 370ms/step - loss: 2.0528 - accuracy: 0.3118 - top-5-accuracy: 0.8092 - val_loss: 1.5059 - val_accuracy: 0.4602 - val_top-5-accuracy: 0.9174\n",
            "Epoch 2/40\n",
            "176/176 [==============================] - 65s 370ms/step - loss: 1.5666 - accuracy: 0.4372 - top-5-accuracy: 0.8987 - val_loss: 1.3053 - val_accuracy: 0.5266 - val_top-5-accuracy: 0.9422\n",
            "Epoch 3/40\n",
            "176/176 [==============================] - 66s 376ms/step - loss: 1.3995 - accuracy: 0.4976 - top-5-accuracy: 0.9260 - val_loss: 1.1309 - val_accuracy: 0.5860 - val_top-5-accuracy: 0.9592\n",
            "Epoch 4/40\n",
            "176/176 [==============================] - 67s 380ms/step - loss: 1.2922 - accuracy: 0.5393 - top-5-accuracy: 0.9382 - val_loss: 1.0709 - val_accuracy: 0.6124 - val_top-5-accuracy: 0.9636\n",
            "Epoch 5/40\n",
            "176/176 [==============================] - 67s 383ms/step - loss: 1.2297 - accuracy: 0.5634 - top-5-accuracy: 0.9471 - val_loss: 1.0285 - val_accuracy: 0.6328 - val_top-5-accuracy: 0.9698\n",
            "Epoch 6/40\n",
            "176/176 [==============================] - 68s 386ms/step - loss: 1.1735 - accuracy: 0.5841 - top-5-accuracy: 0.9512 - val_loss: 0.9430 - val_accuracy: 0.6682 - val_top-5-accuracy: 0.9762\n",
            "Epoch 7/40\n",
            "176/176 [==============================] - 67s 383ms/step - loss: 1.1140 - accuracy: 0.6081 - top-5-accuracy: 0.9572 - val_loss: 0.9695 - val_accuracy: 0.6624 - val_top-5-accuracy: 0.9694\n",
            "Epoch 8/40\n",
            "176/176 [==============================] - 68s 387ms/step - loss: 1.0610 - accuracy: 0.6262 - top-5-accuracy: 0.9629 - val_loss: 0.8974 - val_accuracy: 0.6916 - val_top-5-accuracy: 0.9802\n",
            "Epoch 9/40\n",
            "176/176 [==============================] - 68s 386ms/step - loss: 1.0222 - accuracy: 0.6406 - top-5-accuracy: 0.9657 - val_loss: 0.8707 - val_accuracy: 0.6976 - val_top-5-accuracy: 0.9802\n",
            "Epoch 10/40\n",
            "176/176 [==============================] - 67s 382ms/step - loss: 0.9856 - accuracy: 0.6566 - top-5-accuracy: 0.9679 - val_loss: 0.8633 - val_accuracy: 0.6938 - val_top-5-accuracy: 0.9804\n",
            "Epoch 11/40\n",
            "176/176 [==============================] - 68s 386ms/step - loss: 0.9623 - accuracy: 0.6624 - top-5-accuracy: 0.9696 - val_loss: 0.7996 - val_accuracy: 0.7202 - val_top-5-accuracy: 0.9844\n",
            "Epoch 12/40\n",
            "176/176 [==============================] - 68s 387ms/step - loss: 0.9189 - accuracy: 0.6776 - top-5-accuracy: 0.9723 - val_loss: 0.7747 - val_accuracy: 0.7302 - val_top-5-accuracy: 0.9850\n",
            "Epoch 13/40\n",
            "176/176 [==============================] - 68s 386ms/step - loss: 0.8857 - accuracy: 0.6919 - top-5-accuracy: 0.9738 - val_loss: 0.7433 - val_accuracy: 0.7332 - val_top-5-accuracy: 0.9850\n",
            "Epoch 14/40\n",
            "176/176 [==============================] - 68s 386ms/step - loss: 0.8531 - accuracy: 0.7033 - top-5-accuracy: 0.9751 - val_loss: 0.7304 - val_accuracy: 0.7444 - val_top-5-accuracy: 0.9870\n",
            "Epoch 15/40\n",
            "176/176 [==============================] - 67s 381ms/step - loss: 0.8239 - accuracy: 0.7127 - top-5-accuracy: 0.9775 - val_loss: 0.7216 - val_accuracy: 0.7426 - val_top-5-accuracy: 0.9860\n",
            "Epoch 16/40\n",
            "176/176 [==============================] - 68s 387ms/step - loss: 0.8042 - accuracy: 0.7210 - top-5-accuracy: 0.9793 - val_loss: 0.6911 - val_accuracy: 0.7560 - val_top-5-accuracy: 0.9880\n",
            "Epoch 17/40\n",
            "176/176 [==============================] - 68s 387ms/step - loss: 0.7833 - accuracy: 0.7253 - top-5-accuracy: 0.9807 - val_loss: 0.6780 - val_accuracy: 0.7688 - val_top-5-accuracy: 0.9858\n",
            "Epoch 18/40\n",
            "176/176 [==============================] - 67s 382ms/step - loss: 0.7569 - accuracy: 0.7357 - top-5-accuracy: 0.9825 - val_loss: 0.6685 - val_accuracy: 0.7644 - val_top-5-accuracy: 0.9870\n",
            "Epoch 19/40\n",
            "176/176 [==============================] - 68s 386ms/step - loss: 0.7315 - accuracy: 0.7457 - top-5-accuracy: 0.9826 - val_loss: 0.6301 - val_accuracy: 0.7826 - val_top-5-accuracy: 0.9884\n",
            "Epoch 20/40\n",
            "176/176 [==============================] - 67s 382ms/step - loss: 0.7103 - accuracy: 0.7524 - top-5-accuracy: 0.9840 - val_loss: 0.6313 - val_accuracy: 0.7790 - val_top-5-accuracy: 0.9890\n",
            "Epoch 21/40\n",
            "176/176 [==============================] - 67s 382ms/step - loss: 0.6965 - accuracy: 0.7560 - top-5-accuracy: 0.9849 - val_loss: 0.6290 - val_accuracy: 0.7800 - val_top-5-accuracy: 0.9896\n",
            "Epoch 22/40\n",
            "176/176 [==============================] - 68s 386ms/step - loss: 0.6810 - accuracy: 0.7632 - top-5-accuracy: 0.9853 - val_loss: 0.6294 - val_accuracy: 0.7830 - val_top-5-accuracy: 0.9888\n",
            "Epoch 23/40\n",
            "176/176 [==============================] - 68s 386ms/step - loss: 0.6635 - accuracy: 0.7691 - top-5-accuracy: 0.9856 - val_loss: 0.6045 - val_accuracy: 0.7886 - val_top-5-accuracy: 0.9894\n",
            "Epoch 24/40\n",
            "176/176 [==============================] - 67s 382ms/step - loss: 0.6405 - accuracy: 0.7746 - top-5-accuracy: 0.9865 - val_loss: 0.6165 - val_accuracy: 0.7886 - val_top-5-accuracy: 0.9904\n",
            "Epoch 25/40\n",
            "176/176 [==============================] - 67s 382ms/step - loss: 0.6246 - accuracy: 0.7809 - top-5-accuracy: 0.9873 - val_loss: 0.6047 - val_accuracy: 0.7848 - val_top-5-accuracy: 0.9900\n",
            "Epoch 26/40\n",
            "176/176 [==============================] - 68s 385ms/step - loss: 0.6118 - accuracy: 0.7837 - top-5-accuracy: 0.9886 - val_loss: 0.5778 - val_accuracy: 0.7994 - val_top-5-accuracy: 0.9898\n",
            "Epoch 27/40\n",
            "176/176 [==============================] - 68s 385ms/step - loss: 0.5957 - accuracy: 0.7928 - top-5-accuracy: 0.9892 - val_loss: 0.5858 - val_accuracy: 0.8054 - val_top-5-accuracy: 0.9918\n",
            "Epoch 28/40\n",
            "176/176 [==============================] - 67s 381ms/step - loss: 0.5878 - accuracy: 0.7924 - top-5-accuracy: 0.9900 - val_loss: 0.5977 - val_accuracy: 0.7988 - val_top-5-accuracy: 0.9894\n",
            "Epoch 29/40\n",
            "176/176 [==============================] - 67s 383ms/step - loss: 0.5738 - accuracy: 0.7987 - top-5-accuracy: 0.9901 - val_loss: 0.5711 - val_accuracy: 0.8038 - val_top-5-accuracy: 0.9894\n",
            "Epoch 30/40\n",
            "176/176 [==============================] - 68s 385ms/step - loss: 0.5551 - accuracy: 0.8055 - top-5-accuracy: 0.9909 - val_loss: 0.5630 - val_accuracy: 0.8092 - val_top-5-accuracy: 0.9910\n",
            "Epoch 31/40\n",
            "176/176 [==============================] - 67s 381ms/step - loss: 0.5402 - accuracy: 0.8088 - top-5-accuracy: 0.9914 - val_loss: 0.5597 - val_accuracy: 0.8060 - val_top-5-accuracy: 0.9914\n",
            "Epoch 32/40\n",
            "176/176 [==============================] - 67s 381ms/step - loss: 0.5275 - accuracy: 0.8137 - top-5-accuracy: 0.9927 - val_loss: 0.5798 - val_accuracy: 0.8040 - val_top-5-accuracy: 0.9908\n",
            "Epoch 33/40\n",
            "176/176 [==============================] - 68s 386ms/step - loss: 0.5219 - accuracy: 0.8169 - top-5-accuracy: 0.9925 - val_loss: 0.5563 - val_accuracy: 0.8114 - val_top-5-accuracy: 0.9906\n",
            "Epoch 34/40\n",
            "176/176 [==============================] - 68s 385ms/step - loss: 0.5150 - accuracy: 0.8181 - top-5-accuracy: 0.9928 - val_loss: 0.5465 - val_accuracy: 0.8146 - val_top-5-accuracy: 0.9914\n",
            "Epoch 35/40\n",
            "176/176 [==============================] - 67s 382ms/step - loss: 0.4983 - accuracy: 0.8243 - top-5-accuracy: 0.9930 - val_loss: 0.5677 - val_accuracy: 0.8126 - val_top-5-accuracy: 0.9898\n",
            "Epoch 36/40\n",
            "176/176 [==============================] - 68s 386ms/step - loss: 0.4901 - accuracy: 0.8279 - top-5-accuracy: 0.9934 - val_loss: 0.5335 - val_accuracy: 0.8198 - val_top-5-accuracy: 0.9908\n",
            "Epoch 37/40\n",
            "176/176 [==============================] - 67s 383ms/step - loss: 0.4762 - accuracy: 0.8325 - top-5-accuracy: 0.9943 - val_loss: 0.5341 - val_accuracy: 0.8182 - val_top-5-accuracy: 0.9916\n",
            "Epoch 38/40\n",
            "176/176 [==============================] - 69s 390ms/step - loss: 0.4737 - accuracy: 0.8340 - top-5-accuracy: 0.9945 - val_loss: 0.5313 - val_accuracy: 0.8224 - val_top-5-accuracy: 0.9920\n",
            "Epoch 39/40\n",
            "176/176 [==============================] - 67s 381ms/step - loss: 0.4633 - accuracy: 0.8372 - top-5-accuracy: 0.9948 - val_loss: 0.5401 - val_accuracy: 0.8176 - val_top-5-accuracy: 0.9916\n",
            "Epoch 40/40\n",
            "176/176 [==============================] - 67s 381ms/step - loss: 0.4550 - accuracy: 0.8389 - top-5-accuracy: 0.9944 - val_loss: 0.5485 - val_accuracy: 0.8144 - val_top-5-accuracy: 0.9914\n",
            "313/313 [==============================] - 7s 22ms/step - loss: 0.5619 - accuracy: 0.8137 - top-5-accuracy: 0.9893\n",
            "Test accuracy: 81.37%\n",
            "Test top 5 accuracy: 98.93%\n"
          ]
        }
      ],
      "source": [
        "def run_experiment(model):\n",
        "    optimizer = tfa.optimizers.AdamW(\n",
        "        learning_rate=learning_rate, weight_decay=weight_decay\n",
        "    )\n",
        "\n",
        "    model.compile(\n",
        "        optimizer=optimizer,\n",
        "        loss=keras.losses.SparseCategoricalCrossentropy(from_logits=True),\n",
        "        metrics=[\n",
        "            keras.metrics.SparseCategoricalAccuracy(name=\"accuracy\"),\n",
        "            keras.metrics.SparseTopKCategoricalAccuracy(5, name=\"top-5-accuracy\"),\n",
        "        ],\n",
        "    )\n",
        "\n",
        "    checkpoint_filepath = \"/tmp/checkpoint\"\n",
        "    checkpoint_callback = keras.callbacks.ModelCheckpoint(\n",
        "        checkpoint_filepath,\n",
        "        monitor=\"val_accuracy\",\n",
        "        save_best_only=True,\n",
        "        save_weights_only=True,\n",
        "    )\n",
        "\n",
        "    history = model.fit(\n",
        "        x=x_train,\n",
        "        y=y_train,\n",
        "        batch_size=batch_size,\n",
        "        epochs=num_epochs,\n",
        "        validation_split=0.1,\n",
        "        callbacks=[checkpoint_callback],\n",
        "    )\n",
        "\n",
        "    model.load_weights(checkpoint_filepath)\n",
        "    _, accuracy, top_5_accuracy = model.evaluate(x_test, y_test)\n",
        "    print(f\"Test accuracy: {round(accuracy * 100, 2)}%\")\n",
        "    print(f\"Test top 5 accuracy: {round(top_5_accuracy * 100, 2)}%\")\n",
        "\n",
        "    return history\n",
        "\n",
        "\n",
        "vit_classifier = create_vit_classifier()\n",
        "history = run_experiment(vit_classifier)\n"
      ]
    },
    {
      "cell_type": "code",
      "source": [
        "class_names = [\n",
        "               'airplane',\n",
        "               'automobile',\n",
        "               'bird',\n",
        "               'cat',\n",
        "               'deer',\n",
        "               'dog',\n",
        "               'frog',\n",
        "               'horse',\n",
        "               'ship',\n",
        "               'truck'\n",
        "]"
      ],
      "metadata": {
        "id": "ZL64EXqGQyeO"
      },
      "execution_count": null,
      "outputs": []
    },
    {
      "cell_type": "code",
      "source": [
        "def img_predict(images, model) :\n",
        "\n",
        "    if len(images.shape) == 3:\n",
        "        out = model.predict(images.reshape(-1,*images.shape))\n",
        "    else:\n",
        "        out = model.predict(images)\n",
        "    prediction = np.argmax(out, axis = 1)\n",
        "    img_prediction = [class_names[i] for i in prediction]\n",
        "    return img_prediction"
      ],
      "metadata": {
        "id": "ivk4__BtPtlZ"
      },
      "execution_count": null,
      "outputs": []
    },
    {
      "cell_type": "code",
      "source": [
        "index = 14\n",
        "plt.imshow(x_test[index])\n",
        "prediction = img_predict(x_test[index], vit_classifier)\n",
        "print(prediction)"
      ],
      "metadata": {
        "colab": {
          "base_uri": "https://localhost:8080/",
          "height": 284
        },
        "id": "YQIseHjuPtaO",
        "outputId": "8115ee86-6aac-43b4-d63b-04da6e5d877e"
      },
      "execution_count": null,
      "outputs": [
        {
          "output_type": "stream",
          "name": "stdout",
          "text": [
            "['truck']\n"
          ]
        },
        {
          "output_type": "display_data",
          "data": {
            "text/plain": [
              "<Figure size 432x288 with 1 Axes>"
            ],
            "image/png": "[encoded data removed]"
          },
          "metadata": {
            "needs_background": "light"
          }
        }
      ]
    },
    {
      "cell_type": "markdown",
      "metadata": {
        "id": "BjyLnF8axPZX"
      },
      "source": [
        ""
      ]
    }
  ],
  "metadata": {
    "accelerator": "GPU",
    "colab": {
      "name": "Vision transformer - Classification Cifar 10.ipynb",
      "provenance": []
    },
    "kernelspec": {
      "display_name": "Python 3",
      "name": "python3"
    },
    "language_info": {
      "name": "python"
    }
  },
  "nbformat": 4,
  "nbformat_minor": 0
}